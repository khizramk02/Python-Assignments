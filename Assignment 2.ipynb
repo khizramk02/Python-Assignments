{
 "cells": [
  {
   "cell_type": "markdown",
   "metadata": {},
   "source": [
    "#### 1. Write a program which takes 5 inputs from user for different subject’s marks, total it and generate mark sheet using grades ?"
   ]
  },
  {
   "cell_type": "code",
   "execution_count": 8,
   "metadata": {},
   "outputs": [
    {
     "name": "stdout",
     "output_type": "stream",
     "text": [
      "Enter the number of 1st subject: 34\n",
      "Enter the number of 2nd subject: 56\n",
      "Enter the number of 3rd subject: 78\n",
      "Enter the number of 4th subject: 90\n",
      "Enter the number of 5th subject: 23\n",
      "281\n",
      "Grade: C\n"
     ]
    }
   ],
   "source": [
    "num1= int(input(\"Enter the number of 1st subject: \"))\n",
    "num2= int(input(\"Enter the number of 2nd subject: \"))\n",
    "num3= int(input(\"Enter the number of 3rd subject: \"))\n",
    "num4= int(input(\"Enter the number of 4th subject: \"))\n",
    "num5= int(input(\"Enter the number of 5th subject: \"))\n",
    "total =  num1+num2+num3+num4+num5\n",
    "print(total)\n",
    "if(total<=500 and total>=400):\n",
    "    print(\"Grade: A\")\n",
    "elif(total<400 and total>=300):\n",
    "    print(\"Grade: B\")\n",
    "elif(total<300 and total>=200):\n",
    "    print(\"Grade: C\")\n",
    "elif(total<200 and total>=100):\n",
    "    print(\"Grade: D\")\n",
    "else:\n",
    "    print(\"Invalid numbers\")"
   ]
  },
  {
   "cell_type": "markdown",
   "metadata": {},
   "source": [
    "#### 2. Write a program which take input from user and identify that the given number is even or odd?"
   ]
  },
  {
   "cell_type": "code",
   "execution_count": 9,
   "metadata": {},
   "outputs": [
    {
     "name": "stdout",
     "output_type": "stream",
     "text": [
      "Enter the number to check: 6\n",
      "6\n",
      "number is even\n"
     ]
    }
   ],
   "source": [
    "num= int(input(\"Enter the number to check: \"))\n",
    "print(num)\n",
    "if(num%2==0):\n",
    "    print('number is even')\n",
    "else:\n",
    "    print('odd')"
   ]
  },
  {
   "cell_type": "markdown",
   "metadata": {},
   "source": [
    "#### 3. Write a program which print the length of the list?"
   ]
  },
  {
   "cell_type": "code",
   "execution_count": 20,
   "metadata": {},
   "outputs": [
    {
     "name": "stdout",
     "output_type": "stream",
     "text": [
      "13\n"
     ]
    }
   ],
   "source": [
    "list1 = [23,65,78,45,900,87,65,7,8,9,0,2,9]\n",
    "print(len(list1))"
   ]
  },
  {
   "cell_type": "markdown",
   "metadata": {},
   "source": [
    "#### 4. Write a Python program to sum all the numeric items in a list?"
   ]
  },
  {
   "cell_type": "code",
   "execution_count": 21,
   "metadata": {},
   "outputs": [
    {
     "name": "stdout",
     "output_type": "stream",
     "text": [
      "1298\n"
     ]
    }
   ],
   "source": [
    "sum =0\n",
    "for x in list1:\n",
    "    sum += x\n",
    "print(sum)"
   ]
  },
  {
   "cell_type": "markdown",
   "metadata": {},
   "source": [
    "#### 5. Write a Python program to get the largest number from a numeric list."
   ]
  },
  {
   "cell_type": "code",
   "execution_count": 27,
   "metadata": {},
   "outputs": [
    {
     "name": "stdout",
     "output_type": "stream",
     "text": [
      "900\n"
     ]
    }
   ],
   "source": [
    "print(max(list1))"
   ]
  },
  {
   "cell_type": "markdown",
   "metadata": {},
   "source": [
    "#### 6. Take a list, say for example this one: a = [1, 1, 2, 3, 5, 8, 13, 21, 34, 55, 89] and write a program that prints out all the elements of the list that are less than 5."
   ]
  },
  {
   "cell_type": "code",
   "execution_count": 31,
   "metadata": {},
   "outputs": [
    {
     "name": "stdout",
     "output_type": "stream",
     "text": [
      "1\n",
      "1\n",
      "2\n",
      "3\n"
     ]
    }
   ],
   "source": [
    "a = [1, 1, 2, 3, 5, 8, 13, 21, 34, 55, 89]\n",
    "for x in a :\n",
    "    if x<5:\n",
    "        print(x)"
   ]
  }
 ],
 "metadata": {
  "kernelspec": {
   "display_name": "Python 3",
   "language": "python",
   "name": "python3"
  },
  "language_info": {
   "codemirror_mode": {
    "name": "ipython",
    "version": 3
   },
   "file_extension": ".py",
   "mimetype": "text/x-python",
   "name": "python",
   "nbconvert_exporter": "python",
   "pygments_lexer": "ipython3",
   "version": "3.7.3"
  }
 },
 "nbformat": 4,
 "nbformat_minor": 2
}
