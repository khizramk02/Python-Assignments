{
 "cells": [
  {
   "cell_type": "markdown",
   "metadata": {},
   "source": [
    "### Make a calculator using Python with addition , subtraction , multiplication , division and power."
   ]
  },
  {
   "cell_type": "code",
   "execution_count": 5,
   "metadata": {},
   "outputs": [
    {
     "name": "stdout",
     "output_type": "stream",
     "text": [
      "Enter the 1st num = 1\n",
      "Enter the second num = 2\n",
      "Enter the operation you want to perform = +\n",
      "3\n"
     ]
    }
   ],
   "source": [
    "def calculation(a,b,operator):\n",
    "    if(operator=='-'):\n",
    "        print(a-b)\n",
    "    elif operator=='+':\n",
    "        print(a+b)\n",
    "    elif operator=='/':\n",
    "        print(a/b)\n",
    "    elif operator=='*':\n",
    "        print(a*b)\n",
    "\n",
    "a=int(input(\"Enter the 1st num = \"))\n",
    "b=int(input(\"Enter the second num = \"))\n",
    "operator=input(\"Enter the operation you want to perform = \")\n",
    "calculation(a,b,operator)\n",
    "\n"
   ]
  },
  {
   "cell_type": "markdown",
   "metadata": {},
   "source": [
    "### Write a program to check if there is any numeric value in list using for loop"
   ]
  },
  {
   "cell_type": "code",
   "execution_count": 31,
   "metadata": {},
   "outputs": [
    {
     "name": "stdout",
     "output_type": "stream",
     "text": [
      "found the value: 2\n"
     ]
    }
   ],
   "source": [
    "list1 = ['khizram','khan',2]\n",
    "for x in list1:\n",
    "    if (type(x) == int):\n",
    "        print('found the value:',x)"
   ]
  },
  {
   "cell_type": "markdown",
   "metadata": {},
   "source": [
    "### Write a Python script to add a key to a dictionary"
   ]
  },
  {
   "cell_type": "code",
   "execution_count": 50,
   "metadata": {},
   "outputs": [
    {
     "data": {
      "text/plain": [
       "{'name': 'khizram', 'last': 'khan'}"
      ]
     },
     "execution_count": 50,
     "metadata": {},
     "output_type": "execute_result"
    }
   ],
   "source": [
    "dict1 = {'name': 'khizram', 'last': 'khan'}\n",
    "dict1"
   ]
  },
  {
   "cell_type": "code",
   "execution_count": 51,
   "metadata": {},
   "outputs": [
    {
     "name": "stdout",
     "output_type": "stream",
     "text": [
      "{'name': 'khizram', 'last': 'khan', 'age': '20'}\n"
     ]
    }
   ],
   "source": [
    "dict1['age']= '20'\n",
    "print(dict1)"
   ]
  },
  {
   "cell_type": "markdown",
   "metadata": {},
   "source": [
    "### Write a Python program to sum all the numeric items in a dictionary"
   ]
  },
  {
   "cell_type": "code",
   "execution_count": 19,
   "metadata": {},
   "outputs": [
    {
     "name": "stdout",
     "output_type": "stream",
     "text": [
      "60\n"
     ]
    }
   ],
   "source": [
    "dict2 = {'num1':10,'num2':20, 'num3':30}\n",
    "i =0\n",
    "for x in dict2:\n",
    "    i += dict2[x]\n",
    "print(i)"
   ]
  },
  {
   "cell_type": "markdown",
   "metadata": {},
   "source": [
    "### Write a program to identify duplicate values from list"
   ]
  },
  {
   "cell_type": "code",
   "execution_count": 33,
   "metadata": {},
   "outputs": [
    {
     "name": "stdout",
     "output_type": "stream",
     "text": [
      "[2, 4]\n"
     ]
    }
   ],
   "source": [
    "def Repeat(x): \n",
    "    size = len(x) \n",
    "    repeated = [] \n",
    "    for i in range(size): \n",
    "        k = i + 1\n",
    "        for j in range(k, size): \n",
    "            if x[i] == x[j] and x[i] not in repeated: \n",
    "                repeated.append(x[i]) \n",
    "    return repeated \n",
    "\n",
    "list1 = [10,2,4,2,5,2,6,4] \n",
    "print (Repeat(list1)) "
   ]
  },
  {
   "cell_type": "code",
   "execution_count": 49,
   "metadata": {},
   "outputs": [
    {
     "name": "stdout",
     "output_type": "stream",
     "text": [
      "[2, 4]\n"
     ]
    }
   ],
   "source": [
    "#alternate method\n",
    "\n",
    "list1 = [10,2,4,2,5,2,6,4]\n",
    "dup=[]\n",
    "for x in range(len(list1)):\n",
    "      for y in range(x+1,len(list1)):\n",
    "           if (list1[x] == list1[y] and list1[x] not in dup):\n",
    "                  dup.append(list1[x])\n",
    "print(dup)"
   ]
  },
  {
   "cell_type": "markdown",
   "metadata": {},
   "source": [
    "### Write a Python script to check if a given key already exists in a dictionary"
   ]
  },
  {
   "cell_type": "code",
   "execution_count": 30,
   "metadata": {},
   "outputs": [
    {
     "data": {
      "text/plain": [
       "{'num1': 10, 'num2': 20, 'num3': 30}"
      ]
     },
     "execution_count": 30,
     "metadata": {},
     "output_type": "execute_result"
    }
   ],
   "source": [
    "dict2"
   ]
  },
  {
   "cell_type": "code",
   "execution_count": 43,
   "metadata": {},
   "outputs": [
    {
     "name": "stdout",
     "output_type": "stream",
     "text": [
      "enter key: num2\n",
      "{'num1': 10, 'num2': 20, 'num3': 30}\n",
      "\n",
      "not exist\n",
      "\n",
      "exist\n",
      "\n",
      "not exist\n"
     ]
    }
   ],
   "source": [
    "key = input('enter key: ')\n",
    "\n",
    "print(dict2)\n",
    "for k in dict2.keys():\n",
    "    if k == key:\n",
    "        print(f'\\nexist')\n",
    "    else:\n",
    "        print('\\nnot exist')"
   ]
  }
 ],
 "metadata": {
  "kernelspec": {
   "display_name": "Python 3",
   "language": "python",
   "name": "python3"
  },
  "language_info": {
   "codemirror_mode": {
    "name": "ipython",
    "version": 3
   },
   "file_extension": ".py",
   "mimetype": "text/x-python",
   "name": "python",
   "nbconvert_exporter": "python",
   "pygments_lexer": "ipython3",
   "version": "3.7.3"
  }
 },
 "nbformat": 4,
 "nbformat_minor": 2
}
