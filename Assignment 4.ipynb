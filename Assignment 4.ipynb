{
 "cells": [
  {
   "cell_type": "markdown",
   "metadata": {},
   "source": [
    "### Use a dictionary to store information about a person you know. Store their first name, last name, age, and the city in which they live. You should have keys such as first_name, last_name, age, and city. Print each piece of information stored in your dictionary. Add a new key value pair about qualification then update the qualification value to high academic level then delete it.\n",
    "\n"
   ]
  },
  {
   "cell_type": "code",
   "execution_count": 3,
   "metadata": {},
   "outputs": [
    {
     "name": "stdout",
     "output_type": "stream",
     "text": [
      "first_name khizram\n",
      "last_name khan\n",
      "age 20\n",
      "city karachi\n"
     ]
    }
   ],
   "source": [
    "person = {'first_name':'khizram','last_name':'khan','age':20,'city':'karachi'}\n",
    "for k,v in person.items():\n",
    "    print(k,v)"
   ]
  },
  {
   "cell_type": "code",
   "execution_count": 4,
   "metadata": {},
   "outputs": [
    {
     "data": {
      "text/plain": [
       "{'first_name': 'khizram',\n",
       " 'last_name': 'khan',\n",
       " 'age': 20,\n",
       " 'city': 'karachi',\n",
       " 'qualification': 'intermediate'}"
      ]
     },
     "execution_count": 4,
     "metadata": {},
     "output_type": "execute_result"
    }
   ],
   "source": [
    "person['qualification'] = 'intermediate'\n",
    "person"
   ]
  },
  {
   "cell_type": "code",
   "execution_count": 11,
   "metadata": {},
   "outputs": [
    {
     "data": {
      "text/plain": [
       "{'first_name': 'khizram',\n",
       " 'last_name': 'khan',\n",
       " 'age': 20,\n",
       " 'city': 'karachi',\n",
       " 'qualification': 'higher academic level'}"
      ]
     },
     "execution_count": 11,
     "metadata": {},
     "output_type": "execute_result"
    }
   ],
   "source": [
    "person['qualification'] = 'higher academic level'\n",
    "person"
   ]
  },
  {
   "cell_type": "code",
   "execution_count": 12,
   "metadata": {},
   "outputs": [
    {
     "data": {
      "text/plain": [
       "{'first_name': 'khizram', 'last_name': 'khan', 'age': 20, 'city': 'karachi'}"
      ]
     },
     "execution_count": 12,
     "metadata": {},
     "output_type": "execute_result"
    }
   ],
   "source": [
    "del person['qualification']\n",
    "person"
   ]
  },
  {
   "cell_type": "markdown",
   "metadata": {},
   "source": [
    "### Make a dictionary called cities. Use the names of three cities as keys in your dictionary. Create a dictionary of information about each city and include the country that the city is in, its approximate population, and one fact about that city. The keys for each city’s dictionary should be something like country, population, and fact. Print the name of each city and all of the information you have stored about it.\n",
    "\n"
   ]
  },
  {
   "cell_type": "code",
   "execution_count": 15,
   "metadata": {},
   "outputs": [
    {
     "name": "stdout",
     "output_type": "stream",
     "text": [
      "city karachi and the description\n",
      " {'country': 'pakistan', 'population': '1.49M', 'fact': 'sixth largest city in the world'}\n",
      "city islamabad and the description\n",
      " {'country': 'pakistan', 'population': '1M', 'fact': 'home to faisal mosque'}\n",
      "city delhi and the description\n",
      " {'country': 'india', 'population': '18.9M', 'fact': 'second most populated city'}\n"
     ]
    }
   ],
   "source": [
    "cities ={'karachi': {'country':'pakistan','population':'1.49M','fact': 'sixth largest city in the world'},\n",
    "         'islamabad': {'country':'pakistan','population':'1M','fact':'home to faisal mosque'},\n",
    "         'delhi': {'country':'india','population':'18.9M','fact':'second most populated city'}}\n",
    "for k,v in cities.items():\n",
    "    print(f'city {k} and the description\\n {v}')"
   ]
  },
  {
   "cell_type": "markdown",
   "metadata": {},
   "source": [
    "### A movie theater charges different ticket prices depending on a person’s age. If a person is under the age of 3, the ticket is free; if they are between 3 and 12, the ticket is $10; and if they are over age 12, the ticket is $15. Write a loop in which you ask users their age, and then tell them the cost of their movie ticket.\n",
    "\n"
   ]
  },
  {
   "cell_type": "code",
   "execution_count": 1,
   "metadata": {},
   "outputs": [
    {
     "name": "stdout",
     "output_type": "stream",
     "text": [
      "enter your age: 12\n",
      "\n",
      "Your movie ticket costs 15rupee\n",
      "do you want to buy ticket (y/n)? y\n",
      "enter your age: 23\n",
      "\n",
      "Your movie ticket costs 15rupee\n",
      "do you want to buy ticket (y/n)? n\n",
      "thanks\n"
     ]
    }
   ],
   "source": [
    "ticket = 'y'\n",
    "while(ticket != 'n'):\n",
    "    age = int(input('enter your age: '))\n",
    "    if(age <0 and age<3):\n",
    "           print('\\nYour movie ticket is free')\n",
    "    elif (age>=3 and age< 12):\n",
    "            print('\\nYour movie ticket costs 10rupee')\n",
    "    else:\n",
    "            print('\\nYour movie ticket costs 15rupee')\n",
    "    ticket = input('do you want to buy ticket (y/n)? ')\n",
    "    \n",
    "\n",
    "print('thanks')"
   ]
  },
  {
   "cell_type": "markdown",
   "metadata": {},
   "source": [
    "### Write a function called favorite_book() that accepts one parameter, title. The function should print a message, such as One of my favorite books is Alice in Wonderland. Call the function, making sure to include a book title as an argument in the function call.\n",
    "\n"
   ]
  },
  {
   "cell_type": "code",
   "execution_count": 3,
   "metadata": {},
   "outputs": [
    {
     "name": "stdout",
     "output_type": "stream",
     "text": [
      "enter title of the book: Alice in the Wonderland\n",
      "one of my favourite book is Alice in the Wonderland\n"
     ]
    }
   ],
   "source": [
    "def favourite_book(title):\n",
    "    print(f'one of my favourite book is {title}')\n",
    "book_title = input('enter title of the book: ')\n",
    "favourite_book(book_title)"
   ]
  },
  {
   "cell_type": "markdown",
   "metadata": {},
   "source": [
    "### Guess the number game Write a program which randomly generate a number between 1 to 30 and ask the user in input field to guess the correct number. Give three chances to user guess the number and also give hint to user if hidden number is greater or smaller than the number he given to input field."
   ]
  },
  {
   "cell_type": "code",
   "execution_count": 3,
   "metadata": {},
   "outputs": [
    {
     "name": "stdout",
     "output_type": "stream",
     "text": [
      "enter the number you are guessing: 3\n",
      "guess a larger number\n",
      "you have 2 chances left\n",
      "enter the number you are guessing: 5\n",
      "guess a larger number\n",
      "you have 1 chances left\n",
      "enter the number you are guessing: 7\n",
      "guess a larger number\n",
      "you have 0 chances left\n"
     ]
    }
   ],
   "source": [
    "import random\n",
    "num = int(random.randint(1,30))\n",
    "x= 3\n",
    "while(x!=0):\n",
    "    guess = int(input('enter the number you are guessing: '))\n",
    "    \n",
    "    \n",
    "    if(guess >num):\n",
    "        print(f'guess a smaller number')\n",
    "        print(f'you have {x-1} chances left')\n",
    "    elif(guess <num):\n",
    "        print(f'guess a larger number')\n",
    "        print(f'you have {x-1} chances left')\n",
    "    elif(guess == num ):\n",
    "        print(f'Congrats! number guessed correctly.')\n",
    "        print(f'you have {x-1} chances left')\n",
    "    else:\n",
    "        print('invalid number')\n",
    "    x = x-1"
   ]
  }
 ],
 "metadata": {
  "kernelspec": {
   "display_name": "Python 3",
   "language": "python",
   "name": "python3"
  },
  "language_info": {
   "codemirror_mode": {
    "name": "ipython",
    "version": 3
   },
   "file_extension": ".py",
   "mimetype": "text/x-python",
   "name": "python",
   "nbconvert_exporter": "python",
   "pygments_lexer": "ipython3",
   "version": "3.7.3"
  }
 },
 "nbformat": 4,
 "nbformat_minor": 2
}
